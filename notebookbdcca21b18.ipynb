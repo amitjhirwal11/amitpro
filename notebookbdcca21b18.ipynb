{
 "cells": [
  {
   "cell_type": "code",
   "execution_count": 1,
   "metadata": {
    "execution": {
     "iopub.execute_input": "2024-12-14T16:09:38.547252Z",
     "iopub.status.busy": "2024-12-14T16:09:38.546798Z",
     "iopub.status.idle": "2024-12-14T16:09:38.553674Z",
     "shell.execute_reply": "2024-12-14T16:09:38.552254Z",
     "shell.execute_reply.started": "2024-12-14T16:09:38.547216Z"
    },
    "trusted": true
   },
   "outputs": [
    {
     "ename": "ModuleNotFoundError",
     "evalue": "No module named 'pandas'",
     "output_type": "error",
     "traceback": [
      "\u001b[1;31m---------------------------------------------------------------------------\u001b[0m",
      "\u001b[1;31mModuleNotFoundError\u001b[0m                       Traceback (most recent call last)",
      "Cell \u001b[1;32mIn[1], line 2\u001b[0m\n\u001b[0;32m      1\u001b[0m \u001b[38;5;28;01mimport\u001b[39;00m\u001b[38;5;250m \u001b[39m\u001b[38;5;21;01mos\u001b[39;00m\n\u001b[1;32m----> 2\u001b[0m \u001b[38;5;28;01mimport\u001b[39;00m\u001b[38;5;250m \u001b[39m\u001b[38;5;21;01mpandas\u001b[39;00m\u001b[38;5;250m \u001b[39m\u001b[38;5;28;01mas\u001b[39;00m\u001b[38;5;250m \u001b[39m\u001b[38;5;21;01mpd\u001b[39;00m\n\u001b[0;32m      3\u001b[0m \u001b[38;5;28;01mimport\u001b[39;00m\u001b[38;5;250m \u001b[39m\u001b[38;5;21;01mnumpy\u001b[39;00m\u001b[38;5;250m \u001b[39m\u001b[38;5;28;01mas\u001b[39;00m\u001b[38;5;250m \u001b[39m\u001b[38;5;21;01mnp\u001b[39;00m\n\u001b[0;32m      4\u001b[0m \u001b[38;5;28;01mimport\u001b[39;00m\u001b[38;5;250m \u001b[39m\u001b[38;5;21;01mmatplotlib\u001b[39;00m\u001b[38;5;21;01m.\u001b[39;00m\u001b[38;5;21;01mpyplot\u001b[39;00m\u001b[38;5;250m \u001b[39m\u001b[38;5;28;01mas\u001b[39;00m\u001b[38;5;250m \u001b[39m\u001b[38;5;21;01mplt\u001b[39;00m\n",
      "\u001b[1;31mModuleNotFoundError\u001b[0m: No module named 'pandas'"
     ]
    }
   ],
   "source": [
    "import os\n",
    "import pandas as pd\n",
    "import numpy as np\n",
    "import matplotlib.pyplot as plt\n",
    "import seaborn as sns\n",
    "import folium\n",
    "from folium.plugins import HeatMap"
   ]
  },
  {
   "cell_type": "code",
   "execution_count": null,
   "metadata": {
    "execution": {
     "iopub.execute_input": "2024-12-14T16:09:38.613163Z",
     "iopub.status.busy": "2024-12-14T16:09:38.612708Z",
     "iopub.status.idle": "2024-12-14T16:09:38.63082Z",
     "shell.execute_reply": "2024-12-14T16:09:38.629574Z",
     "shell.execute_reply.started": "2024-12-14T16:09:38.613111Z"
    },
    "trusted": true
   },
   "outputs": [],
   "source": [
    "\n",
    "df_path = '/kaggle/input/craigslist-carstrucks-data/'\n",
    "files = os.listdir(df_path)\n",
    "\n",
    "# Print the files\n",
    "print(files)"
   ]
  },
  {
   "cell_type": "code",
   "execution_count": null,
   "metadata": {
    "execution": {
     "iopub.execute_input": "2024-12-14T16:09:38.633177Z",
     "iopub.status.busy": "2024-12-14T16:09:38.632803Z",
     "iopub.status.idle": "2024-12-14T16:10:06.759427Z",
     "shell.execute_reply": "2024-12-14T16:10:06.757859Z",
     "shell.execute_reply.started": "2024-12-14T16:09:38.633143Z"
    },
    "trusted": true
   },
   "outputs": [],
   "source": [
    "csv_f = 'vehicles.csv'\n",
    "path = os.path.join(df_path, csv_f)\n",
    "df = pd.read_csv(path)\n",
    "df.head()"
   ]
  },
  {
   "cell_type": "code",
   "execution_count": null,
   "metadata": {
    "execution": {
     "iopub.execute_input": "2024-12-14T16:10:06.762135Z",
     "iopub.status.busy": "2024-12-14T16:10:06.76149Z",
     "iopub.status.idle": "2024-12-14T16:10:06.769177Z",
     "shell.execute_reply": "2024-12-14T16:10:06.768035Z",
     "shell.execute_reply.started": "2024-12-14T16:10:06.762096Z"
    },
    "trusted": true
   },
   "outputs": [],
   "source": [
    "df.shape"
   ]
  },
  {
   "cell_type": "code",
   "execution_count": null,
   "metadata": {
    "execution": {
     "iopub.execute_input": "2024-12-14T16:10:06.770783Z",
     "iopub.status.busy": "2024-12-14T16:10:06.770453Z",
     "iopub.status.idle": "2024-12-14T16:10:07.234505Z",
     "shell.execute_reply": "2024-12-14T16:10:07.233341Z",
     "shell.execute_reply.started": "2024-12-14T16:10:06.770752Z"
    },
    "trusted": true
   },
   "outputs": [],
   "source": [
    "df.info()"
   ]
  },
  {
   "cell_type": "code",
   "execution_count": null,
   "metadata": {
    "execution": {
     "iopub.execute_input": "2024-12-14T16:10:07.237261Z",
     "iopub.status.busy": "2024-12-14T16:10:07.236909Z",
     "iopub.status.idle": "2024-12-14T16:10:07.672495Z",
     "shell.execute_reply": "2024-12-14T16:10:07.671241Z",
     "shell.execute_reply.started": "2024-12-14T16:10:07.237228Z"
    },
    "trusted": true
   },
   "outputs": [],
   "source": [
    "df.isnull().sum()   # check missing values"
   ]
  },
  {
   "cell_type": "code",
   "execution_count": null,
   "metadata": {
    "execution": {
     "iopub.execute_input": "2024-12-14T16:10:07.674507Z",
     "iopub.status.busy": "2024-12-14T16:10:07.674131Z",
     "iopub.status.idle": "2024-12-14T16:10:08.177429Z",
     "shell.execute_reply": "2024-12-14T16:10:08.176114Z",
     "shell.execute_reply.started": "2024-12-14T16:10:07.674466Z"
    },
    "trusted": true
   },
   "outputs": [],
   "source": [
    "# Find the missing data\n",
    "Missing_values = df.isnull()          # have 426880 rows\n",
    "for column in Missing_values.columns.values.tolist():\n",
    "    print(Missing_values[column].value_counts())\n",
    "    print(\"\")"
   ]
  },
  {
   "cell_type": "code",
   "execution_count": null,
   "metadata": {
    "execution": {
     "iopub.execute_input": "2024-12-14T16:10:08.179901Z",
     "iopub.status.busy": "2024-12-14T16:10:08.179094Z",
     "iopub.status.idle": "2024-12-14T16:10:08.20659Z",
     "shell.execute_reply": "2024-12-14T16:10:08.205399Z",
     "shell.execute_reply.started": "2024-12-14T16:10:08.179852Z"
    },
    "trusted": true
   },
   "outputs": [],
   "source": [
    "# fill numeric columns with mean\n",
    "numeric_columns = ['year', 'odometer', 'lat', 'long']\n",
    "for column in numeric_columns:\n",
    "    df[column] = df[column].fillna(df[column].mean())"
   ]
  },
  {
   "cell_type": "code",
   "execution_count": null,
   "metadata": {
    "execution": {
     "iopub.execute_input": "2024-12-14T16:10:08.208449Z",
     "iopub.status.busy": "2024-12-14T16:10:08.208036Z",
     "iopub.status.idle": "2024-12-14T16:10:09.528121Z",
     "shell.execute_reply": "2024-12-14T16:10:09.527107Z",
     "shell.execute_reply.started": "2024-12-14T16:10:08.208412Z"
    },
    "trusted": true
   },
   "outputs": [],
   "source": [
    "# fill missing Categorical values with the most frequent value (mode)\n",
    "def fill_with_mode(column):\n",
    "    if column.isna().all():\n",
    "        # If the entire column is NaN, fill with a default value (e.g., 'Unknown')\n",
    "        return column.fillna('Unknown')\n",
    "    else:\n",
    "        # Otherwise, fill with the mode (most frequent value)\n",
    "        mode_value = column.mode()[0]\n",
    "        return column.fillna(mode_value)\n",
    "\n",
    "# List of columns to clean\n",
    "columns_to_clean = categorical_columns = ['manufacturer', 'model', 'condition', 'cylinders', 'fuel', 'title_status', 'transmission', 'VIN', 'drive', 'size', 'type', 'paint_color']\n",
    "\n",
    "# Loop through each column and handle missing values\n",
    "for column in columns_to_clean:\n",
    "    # Check if the column exists in the DataFrame to avoid errors\n",
    "    if column in df.columns:\n",
    "        df[column].fillna(fill_with_mode(df[column]), inplace=True)"
   ]
  },
  {
   "cell_type": "code",
   "execution_count": null,
   "metadata": {
    "execution": {
     "iopub.execute_input": "2024-12-14T16:10:09.529733Z",
     "iopub.status.busy": "2024-12-14T16:10:09.529392Z",
     "iopub.status.idle": "2024-12-14T16:10:09.647256Z",
     "shell.execute_reply": "2024-12-14T16:10:09.64603Z",
     "shell.execute_reply.started": "2024-12-14T16:10:09.529702Z"
    },
    "trusted": true
   },
   "outputs": [],
   "source": [
    "# Dropping the unnecessary columns\n",
    "\n",
    "df.drop(['region_url','image_url','description','county'],inplace=True,axis=1)\n",
    "\n",
    "df['posting_date'] = df['posting_date'].fillna('Unknown')"
   ]
  },
  {
   "cell_type": "code",
   "execution_count": null,
   "metadata": {
    "execution": {
     "iopub.execute_input": "2024-12-14T16:10:09.649184Z",
     "iopub.status.busy": "2024-12-14T16:10:09.648819Z",
     "iopub.status.idle": "2024-12-14T16:10:12.07771Z",
     "shell.execute_reply": "2024-12-14T16:10:12.07648Z",
     "shell.execute_reply.started": "2024-12-14T16:10:09.64914Z"
    },
    "trusted": true
   },
   "outputs": [],
   "source": [
    "# check what every column have\n",
    "for col in df.columns:\n",
    "    print( col,':', df[col].nunique())\n",
    "    print(df[col].value_counts().nlargest(5))\n",
    "    print('\\n' + '-' * 20 + '\\n')"
   ]
  },
  {
   "cell_type": "code",
   "execution_count": null,
   "metadata": {
    "execution": {
     "iopub.execute_input": "2024-12-14T16:10:12.081641Z",
     "iopub.status.busy": "2024-12-14T16:10:12.081284Z",
     "iopub.status.idle": "2024-12-14T16:10:12.201592Z",
     "shell.execute_reply": "2024-12-14T16:10:12.200468Z",
     "shell.execute_reply.started": "2024-12-14T16:10:12.081581Z"
    },
    "trusted": true
   },
   "outputs": [],
   "source": [
    "df.describe()"
   ]
  },
  {
   "cell_type": "code",
   "execution_count": null,
   "metadata": {
    "execution": {
     "iopub.execute_input": "2024-12-14T16:10:12.203684Z",
     "iopub.status.busy": "2024-12-14T16:10:12.203194Z",
     "iopub.status.idle": "2024-12-14T16:10:14.124881Z",
     "shell.execute_reply": "2024-12-14T16:10:14.123507Z",
     "shell.execute_reply.started": "2024-12-14T16:10:12.203633Z"
    },
    "trusted": true
   },
   "outputs": [],
   "source": [
    "df.describe(include = 'all')"
   ]
  },
  {
   "cell_type": "code",
   "execution_count": null,
   "metadata": {
    "execution": {
     "iopub.execute_input": "2024-12-14T16:10:14.126869Z",
     "iopub.status.busy": "2024-12-14T16:10:14.126456Z",
     "iopub.status.idle": "2024-12-14T16:10:14.467593Z",
     "shell.execute_reply": "2024-12-14T16:10:14.466335Z",
     "shell.execute_reply.started": "2024-12-14T16:10:14.126836Z"
    },
    "trusted": true
   },
   "outputs": [],
   "source": [
    "df.info()"
   ]
  },
  {
   "cell_type": "code",
   "execution_count": null,
   "metadata": {
    "execution": {
     "iopub.execute_input": "2024-12-14T16:10:14.470065Z",
     "iopub.status.busy": "2024-12-14T16:10:14.469589Z",
     "iopub.status.idle": "2024-12-14T16:10:14.477691Z",
     "shell.execute_reply": "2024-12-14T16:10:14.476499Z",
     "shell.execute_reply.started": "2024-12-14T16:10:14.470018Z"
    },
    "trusted": true
   },
   "outputs": [],
   "source": [
    "df.columns"
   ]
  },
  {
   "cell_type": "code",
   "execution_count": null,
   "metadata": {
    "execution": {
     "iopub.execute_input": "2024-12-14T16:10:14.4797Z",
     "iopub.status.busy": "2024-12-14T16:10:14.479237Z",
     "iopub.status.idle": "2024-12-14T16:10:15.254176Z",
     "shell.execute_reply": "2024-12-14T16:10:15.252994Z",
     "shell.execute_reply.started": "2024-12-14T16:10:14.479652Z"
    },
    "trusted": true
   },
   "outputs": [],
   "source": [
    "# check duplicates\n",
    "df.duplicated().sum()"
   ]
  },
  {
   "cell_type": "code",
   "execution_count": null,
   "metadata": {
    "execution": {
     "iopub.execute_input": "2024-12-14T16:10:15.256189Z",
     "iopub.status.busy": "2024-12-14T16:10:15.255734Z",
     "iopub.status.idle": "2024-12-14T16:10:15.265841Z",
     "shell.execute_reply": "2024-12-14T16:10:15.264309Z",
     "shell.execute_reply.started": "2024-12-14T16:10:15.256139Z"
    },
    "trusted": true
   },
   "outputs": [],
   "source": [
    "# check data type\n",
    "df.dtypes"
   ]
  },
  {
   "cell_type": "code",
   "execution_count": null,
   "metadata": {
    "execution": {
     "iopub.execute_input": "2024-12-14T16:10:15.267837Z",
     "iopub.status.busy": "2024-12-14T16:10:15.267469Z",
     "iopub.status.idle": "2024-12-14T16:10:21.995895Z",
     "shell.execute_reply": "2024-12-14T16:10:21.994692Z",
     "shell.execute_reply.started": "2024-12-14T16:10:15.267802Z"
    },
    "trusted": true
   },
   "outputs": [],
   "source": [
    "# change data_added column format\n",
    "df['posting_date'] = pd.to_datetime(df['posting_date'], errors='coerce')"
   ]
  },
  {
   "cell_type": "code",
   "execution_count": null,
   "metadata": {
    "execution": {
     "iopub.execute_input": "2024-12-14T16:10:21.997643Z",
     "iopub.status.busy": "2024-12-14T16:10:21.997275Z",
     "iopub.status.idle": "2024-12-14T16:10:22.023358Z",
     "shell.execute_reply": "2024-12-14T16:10:22.022156Z",
     "shell.execute_reply.started": "2024-12-14T16:10:21.997582Z"
    },
    "trusted": true
   },
   "outputs": [],
   "source": [
    "df.head()"
   ]
  },
  {
   "cell_type": "code",
   "execution_count": null,
   "metadata": {
    "execution": {
     "iopub.execute_input": "2024-12-14T16:10:22.02532Z",
     "iopub.status.busy": "2024-12-14T16:10:22.024962Z",
     "iopub.status.idle": "2024-12-14T16:10:22.263186Z",
     "shell.execute_reply": "2024-12-14T16:10:22.261737Z",
     "shell.execute_reply.started": "2024-12-14T16:10:22.025286Z"
    },
    "trusted": true
   },
   "outputs": [],
   "source": [
    "# Replacing the values of cylinders with corresponding numerical digits\n",
    "\n",
    "df['cylinders'].replace(to_replace=['3 cylinders','4 cylinders','5 cylinders','6 cylinders','8 cylinders','10 cylinders','12 cylinders'\n",
    ",'other'],value=[3,4,5,6,8,10,12,np.nan],inplace=True)"
   ]
  },
  {
   "cell_type": "markdown",
   "metadata": {},
   "source": [
    "# EDA"
   ]
  },
  {
   "cell_type": "markdown",
   "metadata": {
    "execution": {
     "iopub.execute_input": "2024-12-14T15:49:26.913715Z",
     "iopub.status.busy": "2024-12-14T15:49:26.913125Z",
     "iopub.status.idle": "2024-12-14T15:49:26.920031Z",
     "shell.execute_reply": "2024-12-14T15:49:26.918512Z",
     "shell.execute_reply.started": "2024-12-14T15:49:26.913663Z"
    }
   },
   "source": [
    "## What is the most popular car type?"
   ]
  },
  {
   "cell_type": "code",
   "execution_count": null,
   "metadata": {
    "execution": {
     "iopub.execute_input": "2024-12-14T16:10:22.265384Z",
     "iopub.status.busy": "2024-12-14T16:10:22.264923Z",
     "iopub.status.idle": "2024-12-14T16:10:22.307444Z",
     "shell.execute_reply": "2024-12-14T16:10:22.306085Z",
     "shell.execute_reply.started": "2024-12-14T16:10:22.265335Z"
    },
    "trusted": true
   },
   "outputs": [],
   "source": [
    "df['type'].value_counts()"
   ]
  },
  {
   "cell_type": "markdown",
   "metadata": {},
   "source": [
    "**We found sedan is the highest one.**"
   ]
  },
  {
   "cell_type": "code",
   "execution_count": null,
   "metadata": {
    "execution": {
     "iopub.execute_input": "2024-12-14T16:10:22.309477Z",
     "iopub.status.busy": "2024-12-14T16:10:22.309015Z",
     "iopub.status.idle": "2024-12-14T16:10:22.584964Z",
     "shell.execute_reply": "2024-12-14T16:10:22.583687Z",
     "shell.execute_reply.started": "2024-12-14T16:10:22.309441Z"
    },
    "trusted": true
   },
   "outputs": [],
   "source": [
    "# Most Popular Car Type\n",
    "car_type_counts = df['type'].value_counts().head(10)\n",
    "plt.figure(figsize=(10, 6))\n",
    "sns.barplot(x=car_type_counts.values, y=car_type_counts.index, palette='viridis')\n",
    "plt.title('Top 10 Most Popular Car Types')\n",
    "plt.xlabel('Number of Listings')\n",
    "plt.ylabel('Car Type')\n",
    "plt.show()"
   ]
  },
  {
   "cell_type": "code",
   "execution_count": null,
   "metadata": {
    "execution": {
     "iopub.execute_input": "2024-12-14T16:10:22.587973Z",
     "iopub.status.busy": "2024-12-14T16:10:22.586848Z",
     "iopub.status.idle": "2024-12-14T16:10:22.887127Z",
     "shell.execute_reply": "2024-12-14T16:10:22.885701Z",
     "shell.execute_reply.started": "2024-12-14T16:10:22.587919Z"
    },
    "trusted": true
   },
   "outputs": [],
   "source": [
    "# Plot the top 5 types\n",
    "df['type'].value_counts().head(5).plot(\n",
    "    kind='pie', \n",
    "    autopct='%1.1f%%', \n",
    "    figsize=(8, 8), \n",
    "    startangle=140, \n",
    "    shadow=True, \n",
    "    labels=df['type'].value_counts().head(5).index,  # Use specific labels\n",
    "    colors=['#ff9999', '#66b3ff', '#99ff99', '#ffcc99', '#c2c2f0']  # Optional custom colors\n",
    ")\n",
    "plt.title('Top 5 Types')\n",
    "plt.ylabel('')  # Remove the y-axis label for better aesthetics\n",
    "plt.show()"
   ]
  },
  {
   "cell_type": "markdown",
   "metadata": {
    "execution": {
     "iopub.execute_input": "2024-12-14T15:40:29.776022Z",
     "iopub.status.busy": "2024-12-14T15:40:29.775645Z",
     "iopub.status.idle": "2024-12-14T15:40:29.783318Z",
     "shell.execute_reply": "2024-12-14T15:40:29.782163Z",
     "shell.execute_reply.started": "2024-12-14T15:40:29.775991Z"
    }
   },
   "source": [
    "## What is the distribution of cars according to title status?"
   ]
  },
  {
   "cell_type": "code",
   "execution_count": null,
   "metadata": {
    "execution": {
     "iopub.execute_input": "2024-12-14T16:10:22.889519Z",
     "iopub.status.busy": "2024-12-14T16:10:22.888929Z",
     "iopub.status.idle": "2024-12-14T16:10:23.209915Z",
     "shell.execute_reply": "2024-12-14T16:10:23.208717Z",
     "shell.execute_reply.started": "2024-12-14T16:10:22.889456Z"
    },
    "trusted": true
   },
   "outputs": [],
   "source": [
    "# Distribution of Cars According to Title Status\n",
    "title_counts = df['title_status'].value_counts()\n",
    "plt.figure(figsize=(8, 5))\n",
    "sns.barplot(x=title_counts.index, y=title_counts.values, palette='magma')\n",
    "plt.title('Distribution of Cars by Title Status')\n",
    "plt.xlabel('Title Status')\n",
    "plt.ylabel('Number of Listings')\n",
    "plt.show()\n"
   ]
  },
  {
   "cell_type": "markdown",
   "metadata": {},
   "source": [
    "## What is the trend of data over time?"
   ]
  },
  {
   "cell_type": "code",
   "execution_count": null,
   "metadata": {
    "execution": {
     "iopub.execute_input": "2024-12-14T16:10:23.212086Z",
     "iopub.status.busy": "2024-12-14T16:10:23.211583Z",
     "iopub.status.idle": "2024-12-14T16:10:24.191233Z",
     "shell.execute_reply": "2024-12-14T16:10:24.189796Z",
     "shell.execute_reply.started": "2024-12-14T16:10:23.212037Z"
    },
    "trusted": true
   },
   "outputs": [],
   "source": [
    "# Trend of Data Over Time\n",
    "df['posting_date'] = pd.to_datetime(df['posting_date'], utc=True)\n",
    "\n",
    "# Extract year and month\n",
    "df['year_month'] = df['posting_date'].dt.to_period('M')\n",
    "\n",
    "# Calculate trend of car listings over time\n",
    "trend = df['year_month'].value_counts().sort_index()\n",
    "\n",
    "\n",
    "plt.figure(figsize=(12, 6))\n",
    "trend.plot()\n",
    "plt.title('Trend of Car Listings Over Time')\n",
    "plt.xlabel('Year-Month')\n",
    "plt.ylabel('Number of Listings')\n",
    "plt.xticks(rotation=45)\n",
    "plt.show()\n"
   ]
  },
  {
   "cell_type": "code",
   "execution_count": null,
   "metadata": {
    "execution": {
     "iopub.execute_input": "2024-12-14T16:10:24.193445Z",
     "iopub.status.busy": "2024-12-14T16:10:24.192952Z",
     "iopub.status.idle": "2024-12-14T16:10:24.515574Z",
     "shell.execute_reply": "2024-12-14T16:10:24.514341Z",
     "shell.execute_reply.started": "2024-12-14T16:10:24.193392Z"
    },
    "trusted": true
   },
   "outputs": [],
   "source": [
    "df['year'] = df['year'].astype(int)\n",
    "yearly_distribution = df.groupby('year')['id'].count()\n",
    "\n",
    "plt.figure(figsize=(14, 8))\n",
    "yearly_distribution.plot(kind='area', color='green', alpha=0.4)\n",
    "plt.title('Car Listings Over the Years')\n",
    "plt.xlabel('Year')\n",
    "plt.ylabel('Number of Cars')\n",
    "plt.show()"
   ]
  },
  {
   "cell_type": "markdown",
   "metadata": {},
   "source": [
    "## How does the price change over the years?"
   ]
  },
  {
   "cell_type": "code",
   "execution_count": null,
   "metadata": {
    "execution": {
     "iopub.execute_input": "2024-12-14T16:10:24.517533Z",
     "iopub.status.busy": "2024-12-14T16:10:24.51719Z",
     "iopub.status.idle": "2024-12-14T16:10:24.827153Z",
     "shell.execute_reply": "2024-12-14T16:10:24.825947Z",
     "shell.execute_reply.started": "2024-12-14T16:10:24.5175Z"
    },
    "trusted": true
   },
   "outputs": [],
   "source": [
    "# Price Change Over Years\n",
    "price_by_year = df.groupby('year')['price'].mean().dropna()\n",
    "plt.figure(figsize=(10, 6))\n",
    "sns.lineplot(x=price_by_year.index, y=price_by_year.values, marker='o', color='b')\n",
    "plt.title('Average Price of Cars Over Manufacturing Years')\n",
    "plt.xlabel('Year')\n",
    "plt.ylabel('Average Price')\n",
    "plt.show()\n"
   ]
  },
  {
   "cell_type": "markdown",
   "metadata": {},
   "source": [
    "## What is the most popular condition?"
   ]
  },
  {
   "cell_type": "code",
   "execution_count": null,
   "metadata": {
    "execution": {
     "iopub.execute_input": "2024-12-14T16:10:24.829784Z",
     "iopub.status.busy": "2024-12-14T16:10:24.82928Z",
     "iopub.status.idle": "2024-12-14T16:10:24.870089Z",
     "shell.execute_reply": "2024-12-14T16:10:24.868865Z",
     "shell.execute_reply.started": "2024-12-14T16:10:24.829734Z"
    },
    "trusted": true
   },
   "outputs": [],
   "source": [
    "df['condition'].value_counts()"
   ]
  },
  {
   "cell_type": "markdown",
   "metadata": {},
   "source": [
    "**we can see that the highest is good.**"
   ]
  },
  {
   "cell_type": "code",
   "execution_count": null,
   "metadata": {
    "execution": {
     "iopub.execute_input": "2024-12-14T16:10:24.872396Z",
     "iopub.status.busy": "2024-12-14T16:10:24.872001Z",
     "iopub.status.idle": "2024-12-14T16:10:25.173033Z",
     "shell.execute_reply": "2024-12-14T16:10:25.171891Z",
     "shell.execute_reply.started": "2024-12-14T16:10:24.872363Z"
    },
    "trusted": true
   },
   "outputs": [],
   "source": [
    "# Most Popular Condition\n",
    "condition_counts = df['condition'].value_counts()\n",
    "plt.figure(figsize=(8, 5))\n",
    "sns.barplot(x=condition_counts.index, y=condition_counts.values, palette='coolwarm')\n",
    "plt.title('Distribution of Car Conditions')\n",
    "plt.xlabel('Condition')\n",
    "plt.ylabel('Number of Listings')\n",
    "plt.show()\n"
   ]
  },
  {
   "cell_type": "markdown",
   "metadata": {},
   "source": [
    "## What is the relation between price and mileage?"
   ]
  },
  {
   "cell_type": "code",
   "execution_count": null,
   "metadata": {
    "execution": {
     "iopub.execute_input": "2024-12-14T16:10:25.179622Z",
     "iopub.status.busy": "2024-12-14T16:10:25.179252Z",
     "iopub.status.idle": "2024-12-14T16:10:26.454869Z",
     "shell.execute_reply": "2024-12-14T16:10:26.453809Z",
     "shell.execute_reply.started": "2024-12-14T16:10:25.179573Z"
    },
    "trusted": true
   },
   "outputs": [],
   "source": [
    "# Price vs Odometer (Mileage)\n",
    "plt.figure(figsize=(10, 6))\n",
    "sns.scatterplot(x='odometer', y='price', data=df, alpha=0.5)\n",
    "plt.title('Price vs Odometer')\n",
    "plt.xlabel('Odometer (Miles)')\n",
    "plt.ylabel('Price')\n",
    "plt.show()\n"
   ]
  },
  {
   "cell_type": "markdown",
   "metadata": {},
   "source": [
    "## What is the correlation between price, distance, and cylinders?"
   ]
  },
  {
   "cell_type": "code",
   "execution_count": null,
   "metadata": {
    "execution": {
     "iopub.execute_input": "2024-12-14T16:10:26.45703Z",
     "iopub.status.busy": "2024-12-14T16:10:26.45654Z",
     "iopub.status.idle": "2024-12-14T16:10:26.765624Z",
     "shell.execute_reply": "2024-12-14T16:10:26.764312Z",
     "shell.execute_reply.started": "2024-12-14T16:10:26.45698Z"
    },
    "trusted": true
   },
   "outputs": [],
   "source": [
    "# Correlation Between Price, Odometer, and Cylinders\n",
    "# df['cylinders'] = df['cylinders'].str.extract('(\\d+)').astype(float)  # Convert cylinders to numeric\n",
    "# corr = df[['price', 'odometer', 'cylinders']].corr()\n",
    "\n",
    "# plt.figure(figsize=(8, 6))\n",
    "# sns.heatmap(corr, annot=True, cmap='coolwarm', linewidths=0.5)\n",
    "# plt.title('Correlation Heatmap: Price, Odometer, Cylinders')\n",
    "# plt.show()\n",
    "corr = df[['price', 'odometer', 'cylinders']].corr()\n",
    "plt.figure(figsize=(8, 6))\n",
    "sns.heatmap(corr, annot=True, cmap='coolwarm', linewidths=0.5)\n",
    "plt.title('Correlation Heatmap: Price, Odometer, Cylinders')\n",
    "plt.show()\n"
   ]
  },
  {
   "cell_type": "markdown",
   "metadata": {},
   "source": [
    "## How is price affected by fuel type?"
   ]
  },
  {
   "cell_type": "code",
   "execution_count": null,
   "metadata": {
    "execution": {
     "iopub.execute_input": "2024-12-14T16:10:26.767891Z",
     "iopub.status.busy": "2024-12-14T16:10:26.767539Z",
     "iopub.status.idle": "2024-12-14T16:10:27.047428Z",
     "shell.execute_reply": "2024-12-14T16:10:27.046162Z",
     "shell.execute_reply.started": "2024-12-14T16:10:26.767858Z"
    },
    "trusted": true
   },
   "outputs": [],
   "source": [
    "# Price Affected by Fuel Type\n",
    "fuel_price = df.groupby('fuel')['price'].mean().sort_values()\n",
    "plt.figure(figsize=(8, 5))\n",
    "sns.barplot(x=fuel_price.index, y=fuel_price.values, palette='pastel')\n",
    "plt.title('Average Price by Fuel Type')\n",
    "plt.xlabel('Fuel Type')\n",
    "plt.ylabel('Average Price')\n",
    "plt.show()\n"
   ]
  },
  {
   "cell_type": "markdown",
   "metadata": {},
   "source": [
    "## What is the average price based on manufacturer?"
   ]
  },
  {
   "cell_type": "code",
   "execution_count": null,
   "metadata": {
    "execution": {
     "iopub.execute_input": "2024-12-14T16:10:27.049208Z",
     "iopub.status.busy": "2024-12-14T16:10:27.048853Z",
     "iopub.status.idle": "2024-12-14T16:10:27.383212Z",
     "shell.execute_reply": "2024-12-14T16:10:27.382198Z",
     "shell.execute_reply.started": "2024-12-14T16:10:27.049176Z"
    },
    "trusted": true
   },
   "outputs": [],
   "source": [
    "# Average Price by Manufacturer\n",
    "manufacturer_price = df.groupby('manufacturer')['price'].mean().sort_values(ascending=False).head(10)\n",
    "plt.figure(figsize=(10, 6))\n",
    "sns.barplot(x=manufacturer_price.values, y=manufacturer_price.index, palette='cubehelix')\n",
    "plt.title('Top 10 Manufacturers with Highest Average Price')\n",
    "plt.xlabel('Average Price')\n",
    "plt.ylabel('Manufacturer')\n",
    "plt.show()\n"
   ]
  },
  {
   "cell_type": "markdown",
   "metadata": {},
   "source": [
    "## What is the distribution of cars based on cylinders?"
   ]
  },
  {
   "cell_type": "code",
   "execution_count": null,
   "metadata": {
    "execution": {
     "iopub.execute_input": "2024-12-14T16:10:27.385235Z",
     "iopub.status.busy": "2024-12-14T16:10:27.384867Z",
     "iopub.status.idle": "2024-12-14T16:10:27.400154Z",
     "shell.execute_reply": "2024-12-14T16:10:27.399028Z",
     "shell.execute_reply.started": "2024-12-14T16:10:27.385201Z"
    },
    "trusted": true
   },
   "outputs": [],
   "source": [
    "# Number of cars under each cylinder types \n",
    "\n",
    "df['cylinders'].value_counts().sort_values()\n"
   ]
  },
  {
   "cell_type": "code",
   "execution_count": null,
   "metadata": {
    "execution": {
     "iopub.execute_input": "2024-12-14T16:10:27.40175Z",
     "iopub.status.busy": "2024-12-14T16:10:27.401387Z",
     "iopub.status.idle": "2024-12-14T16:10:27.424882Z",
     "shell.execute_reply": "2024-12-14T16:10:27.423578Z",
     "shell.execute_reply.started": "2024-12-14T16:10:27.401707Z"
    },
    "trusted": true
   },
   "outputs": [],
   "source": [
    "cylinder_types = df['cylinders'].dropna().unique() \n",
    "cylinder_types"
   ]
  },
  {
   "cell_type": "code",
   "execution_count": null,
   "metadata": {
    "execution": {
     "iopub.execute_input": "2024-12-14T16:10:27.427164Z",
     "iopub.status.busy": "2024-12-14T16:10:27.426828Z",
     "iopub.status.idle": "2024-12-14T16:10:31.481983Z",
     "shell.execute_reply": "2024-12-14T16:10:31.480855Z",
     "shell.execute_reply.started": "2024-12-14T16:10:27.427133Z"
    },
    "trusted": true
   },
   "outputs": [],
   "source": [
    "# Set up the figure size\n",
    "plt.figure(figsize=(20, 20))\n",
    "\n",
    "# Loop through each cylinder type\n",
    "for i, cyl in enumerate(cylinder_types, 1):  # Loop with index for subplot positioning\n",
    "    plt.subplot(len(cylinder_types), 1, i)  # Create a subplot for each cylinder type\n",
    "    sns.distplot(\n",
    "        df[df['cylinders'] == cyl]['price'], \n",
    "        color='maroon', \n",
    "        hist_kws={'alpha': 0.7}, \n",
    "        kde_kws={'lw': 5}\n",
    "    )\n",
    "    plt.title(f'Price distribution of {cyl}-cylinder cars', y=-0.5)\n",
    "    plt.xlabel('Price')\n",
    "    plt.ylabel('Density')\n",
    "\n",
    "# Adjust layout\n",
    "plt.tight_layout()\n",
    "plt.show()\n"
   ]
  },
  {
   "cell_type": "code",
   "execution_count": null,
   "metadata": {
    "execution": {
     "iopub.execute_input": "2024-12-14T16:10:31.484257Z",
     "iopub.status.busy": "2024-12-14T16:10:31.483754Z",
     "iopub.status.idle": "2024-12-14T16:10:31.766397Z",
     "shell.execute_reply": "2024-12-14T16:10:31.765055Z",
     "shell.execute_reply.started": "2024-12-14T16:10:31.484192Z"
    },
    "trusted": true
   },
   "outputs": [],
   "source": [
    "## Distribution of Cars Based on Cylinders\n",
    "cylinder_counts = df['cylinders'].value_counts().dropna()\n",
    "plt.figure(figsize=(8, 5))\n",
    "sns.barplot(x=cylinder_counts.index, y=cylinder_counts.values, palette='viridis')\n",
    "plt.title('Distribution of Cars by Cylinders')\n",
    "plt.xlabel('Cylinders')\n",
    "plt.ylabel('Number of Listings')\n",
    "plt.show()\n"
   ]
  },
  {
   "cell_type": "markdown",
   "metadata": {},
   "source": [
    "## Which state has the most car models in the USA?"
   ]
  },
  {
   "cell_type": "code",
   "execution_count": null,
   "metadata": {
    "execution": {
     "iopub.execute_input": "2024-12-14T16:10:31.76855Z",
     "iopub.status.busy": "2024-12-14T16:10:31.768095Z",
     "iopub.status.idle": "2024-12-14T16:10:32.087299Z",
     "shell.execute_reply": "2024-12-14T16:10:32.086054Z",
     "shell.execute_reply.started": "2024-12-14T16:10:31.7685Z"
    },
    "trusted": true
   },
   "outputs": [],
   "source": [
    "stat=df.groupby('state').count()['model'].sort_values(ascending=False).head()\n",
    "stat"
   ]
  },
  {
   "cell_type": "code",
   "execution_count": null,
   "metadata": {
    "execution": {
     "iopub.execute_input": "2024-12-14T16:10:32.088827Z",
     "iopub.status.busy": "2024-12-14T16:10:32.088515Z",
     "iopub.status.idle": "2024-12-14T16:10:32.41032Z",
     "shell.execute_reply": "2024-12-14T16:10:32.409209Z",
     "shell.execute_reply.started": "2024-12-14T16:10:32.088797Z"
    },
    "trusted": true
   },
   "outputs": [],
   "source": [
    "# States with the Most Car Listings\n",
    "state_counts = df['state'].value_counts().head(10)\n",
    "plt.figure(figsize=(10, 6))\n",
    "sns.barplot(x=state_counts.values, y=state_counts.index, palette='deep')\n",
    "plt.title('Top 10 States with Most Car Listings')\n",
    "plt.xlabel('Number of Listings')\n",
    "plt.ylabel('State')\n",
    "plt.show()\n"
   ]
  },
  {
   "cell_type": "markdown",
   "metadata": {},
   "source": [
    "## Distribution on the map"
   ]
  },
  {
   "cell_type": "code",
   "execution_count": null,
   "metadata": {
    "execution": {
     "iopub.execute_input": "2024-12-14T16:10:32.412021Z",
     "iopub.status.busy": "2024-12-14T16:10:32.411693Z",
     "iopub.status.idle": "2024-12-14T16:10:34.272599Z",
     "shell.execute_reply": "2024-12-14T16:10:34.271439Z",
     "shell.execute_reply.started": "2024-12-14T16:10:32.41199Z"
    },
    "trusted": true
   },
   "outputs": [],
   "source": [
    "plt.figure(figsize = (20, 5))\n",
    "sns.scatterplot(x=df['long'],y=df['lat'])\n",
    "plt.title('Fig: Latitude and Longitude of each state', y=-0.23)"
   ]
  },
  {
   "cell_type": "code",
   "execution_count": null,
   "metadata": {
    "execution": {
     "iopub.execute_input": "2024-12-14T16:10:34.27439Z",
     "iopub.status.busy": "2024-12-14T16:10:34.274058Z",
     "iopub.status.idle": "2024-12-14T16:10:34.534952Z",
     "shell.execute_reply": "2024-12-14T16:10:34.533686Z",
     "shell.execute_reply.started": "2024-12-14T16:10:34.274358Z"
    },
    "trusted": true
   },
   "outputs": [],
   "source": [
    "sample_df = df.sample(int(0.01*len(df)))\n",
    "lat_long_pairs = list(zip(list(df['lat']),list(df['long'])))"
   ]
  },
  {
   "cell_type": "code",
   "execution_count": null,
   "metadata": {
    "execution": {
     "iopub.execute_input": "2024-12-14T16:10:34.53685Z",
     "iopub.status.busy": "2024-12-14T16:10:34.536454Z",
     "iopub.status.idle": "2024-12-14T16:10:34.557439Z",
     "shell.execute_reply": "2024-12-14T16:10:34.556399Z",
     "shell.execute_reply.started": "2024-12-14T16:10:34.536807Z"
    },
    "trusted": true
   },
   "outputs": [],
   "source": [
    "map=folium.Map()\n",
    "HeatMap(lat_long_pairs[50:150]).add_to(map)\n",
    "map"
   ]
  }
 ],
 "metadata": {
  "kaggle": {
   "accelerator": "none",
   "dataSources": [
    {
     "datasetId": 62920,
     "sourceId": 2201762,
     "sourceType": "datasetVersion"
    }
   ],
   "dockerImageVersionId": 30804,
   "isGpuEnabled": false,
   "isInternetEnabled": false,
   "language": "python",
   "sourceType": "notebook"
  },
  "kernelspec": {
   "display_name": "Python 3",
   "language": "python",
   "name": "python3"
  },
  "language_info": {
   "codemirror_mode": {
    "name": "ipython",
    "version": 3
   },
   "file_extension": ".py",
   "mimetype": "text/x-python",
   "name": "python",
   "nbconvert_exporter": "python",
   "pygments_lexer": "ipython3",
   "version": "3.13.2"
  }
 },
 "nbformat": 4,
 "nbformat_minor": 4
}
