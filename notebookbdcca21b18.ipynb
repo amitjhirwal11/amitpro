{
  "metadata": {
    "kernelspec": {
      "language": "python",
      "display_name": "Python 3",
      "name": "python3"
    },
    "language_info": {
      "name": "python",
      "version": "3.10.14",
      "mimetype": "text/x-python",
      "codemirror_mode": {
        "name": "ipython",
        "version": 3
      },
      "pygments_lexer": "ipython3",
      "nbconvert_exporter": "python",
      "file_extension": ".py"
    },
    "kaggle": {
      "accelerator": "none",
      "dataSources": [
        {
          "sourceId": 2201762,
          "sourceType": "datasetVersion",
          "datasetId": 62920
        }
      ],
      "dockerImageVersionId": 30804,
      "isInternetEnabled": false,
      "language": "python",
      "sourceType": "notebook",
      "isGpuEnabled": false
    },
    "colab": {
      "name": "notebookbdcca21b18",
      "provenance": [],
      "include_colab_link": true
    }
  },
  "nbformat_minor": 0,
  "nbformat": 4,
  "cells": [
    {
      "cell_type": "markdown",
      "metadata": {
        "id": "view-in-github",
        "colab_type": "text"
      },
      "source": [
        "<a href=\"https://colab.research.google.com/github/amitjhirwal11/amitpro/blob/main/notebookbdcca21b18.ipynb\" target=\"_parent\"><img src=\"https://colab.research.google.com/assets/colab-badge.svg\" alt=\"Open In Colab\"/></a>"
      ]
    },
    {
      "source": [
        "# IMPORTANT: RUN THIS CELL IN ORDER TO IMPORT YOUR KAGGLE DATA SOURCES,\n",
        "# THEN FEEL FREE TO DELETE THIS CELL.\n",
        "# NOTE: THIS NOTEBOOK ENVIRONMENT DIFFERS FROM KAGGLE'S PYTHON\n",
        "# ENVIRONMENT SO THERE MAY BE MISSING LIBRARIES USED BY YOUR\n",
        "# NOTEBOOK.\n",
        "import kagglehub\n",
        "austinreese_craigslist_carstrucks_data_path = kagglehub.dataset_download('austinreese/craigslist-carstrucks-data')\n",
        "\n",
        "print('Data source import complete.')\n"
      ],
      "metadata": {
        "id": "Jy3KnGdFSzc3",
        "outputId": "8d007d55-52fd-4e2f-bdc5-ca9c70c81ea4",
        "colab": {
          "base_uri": "https://localhost:8080/"
        }
      },
      "cell_type": "code",
      "outputs": [
        {
          "output_type": "stream",
          "name": "stdout",
          "text": [
            "Downloading from https://www.kaggle.com/api/v1/datasets/download/austinreese/craigslist-carstrucks-data?dataset_version_number=10...\n"
          ]
        },
        {
          "output_type": "stream",
          "name": "stderr",
          "text": [
            "100%|██████████| 262M/262M [00:04<00:00, 57.2MB/s]"
          ]
        },
        {
          "output_type": "stream",
          "name": "stdout",
          "text": [
            "Extracting files...\n"
          ]
        },
        {
          "output_type": "stream",
          "name": "stderr",
          "text": [
            "\n"
          ]
        },
        {
          "output_type": "stream",
          "name": "stdout",
          "text": [
            "Data source import complete.\n"
          ]
        }
      ],
      "execution_count": 1
    },
    {
      "cell_type": "markdown",
      "source": [],
      "metadata": {
        "id": "Ya22EQtESzc4"
      }
    },
    {
      "cell_type": "code",
      "source": [
        "import os\n",
        "import pandas as pd\n",
        "import numpy as np\n",
        "import matplotlib.pyplot as plt\n",
        "import seaborn as sns\n",
        "import folium\n",
        "from folium.plugins import HeatMap"
      ],
      "metadata": {
        "trusted": true,
        "execution": {
          "iopub.status.busy": "2025-02-23T19:14:19.902644Z",
          "iopub.execute_input": "2025-02-23T19:14:19.903007Z",
          "iopub.status.idle": "2025-02-23T19:14:19.912284Z",
          "shell.execute_reply.started": "2025-02-23T19:14:19.902976Z",
          "shell.execute_reply": "2025-02-23T19:14:19.909859Z"
        },
        "id": "vDjKgKiaSzc5"
      },
      "outputs": [],
      "execution_count": 2
    },
    {
      "cell_type": "markdown",
      "source": [
        "# Data Cleaning"
      ],
      "metadata": {
        "id": "j1lILp57Szc5"
      }
    },
    {
      "cell_type": "code",
      "source": [
        "df_path = '/kaggle/input/craigslist-carstrucks-data/'\n",
        "files = os.listdir(df_path)\n",
        "print(files)"
      ],
      "metadata": {
        "trusted": true,
        "execution": {
          "iopub.status.busy": "2025-02-23T19:14:28.19893Z",
          "iopub.execute_input": "2025-02-23T19:14:28.199242Z",
          "iopub.status.idle": "2025-02-23T19:14:28.210675Z",
          "shell.execute_reply.started": "2025-02-23T19:14:28.199216Z",
          "shell.execute_reply": "2025-02-23T19:14:28.209959Z"
        },
        "id": "1q-20G8kSzc6"
      },
      "outputs": [],
      "execution_count": null
    },
    {
      "cell_type": "code",
      "source": [
        "csv_f = 'vehicles.csv'\n",
        "path = os.path.join(df_path, csv_f)\n",
        "df = pd.read_csv(path)\n",
        "df.head()"
      ],
      "metadata": {
        "trusted": true,
        "execution": {
          "iopub.status.busy": "2025-02-23T19:14:31.232264Z",
          "iopub.execute_input": "2025-02-23T19:14:31.232646Z",
          "execution_failed": "2025-02-23T19:15:51.375Z"
        },
        "id": "2sztRByGSzc6"
      },
      "outputs": [],
      "execution_count": null
    },
    {
      "cell_type": "code",
      "source": [
        "df.shape"
      ],
      "metadata": {
        "trusted": true,
        "execution": {
          "iopub.status.busy": "2024-12-14T16:10:06.76149Z",
          "iopub.execute_input": "2024-12-14T16:10:06.762135Z",
          "iopub.status.idle": "2024-12-14T16:10:06.769177Z",
          "shell.execute_reply.started": "2024-12-14T16:10:06.762096Z",
          "shell.execute_reply": "2024-12-14T16:10:06.768035Z"
        },
        "id": "T_wMNJl7Szc6"
      },
      "outputs": [],
      "execution_count": null
    },
    {
      "cell_type": "code",
      "source": [
        "df.info()"
      ],
      "metadata": {
        "trusted": true,
        "execution": {
          "iopub.status.busy": "2025-02-23T19:10:35.323579Z",
          "iopub.execute_input": "2025-02-23T19:10:35.323961Z",
          "iopub.status.idle": "2025-02-23T19:10:35.79358Z",
          "shell.execute_reply.started": "2025-02-23T19:10:35.323928Z",
          "shell.execute_reply": "2025-02-23T19:10:35.79197Z"
        },
        "id": "3Q7_u0vESzc6"
      },
      "outputs": [],
      "execution_count": null
    },
    {
      "cell_type": "code",
      "source": [
        "df.isnull().sum()   # check missing values"
      ],
      "metadata": {
        "trusted": true,
        "execution": {
          "execution_failed": "2025-02-23T19:13:42.327Z"
        },
        "id": "Mb0RcW59Szc7"
      },
      "outputs": [],
      "execution_count": null
    },
    {
      "cell_type": "code",
      "source": [
        "Missing_values = df.isnull()\n",
        "for column in Missing_values.columns.values.tolist():\n",
        "    print(Missing_values[column].value_counts())\n",
        "    print(\"\")"
      ],
      "metadata": {
        "trusted": true,
        "execution": {
          "iopub.status.busy": "2024-12-14T16:10:07.674131Z",
          "iopub.execute_input": "2024-12-14T16:10:07.674507Z",
          "iopub.status.idle": "2024-12-14T16:10:08.177429Z",
          "shell.execute_reply.started": "2024-12-14T16:10:07.674466Z",
          "shell.execute_reply": "2024-12-14T16:10:08.176114Z"
        },
        "id": "h2BazIE9Szc7"
      },
      "outputs": [],
      "execution_count": null
    },
    {
      "cell_type": "code",
      "source": [
        "numeric_columns = ['year', 'odometer', 'lat', 'long']\n",
        "for column in numeric_columns:\n",
        "    df[column] = df[column].fillna(df[column].mean())"
      ],
      "metadata": {
        "trusted": true,
        "execution": {
          "iopub.status.busy": "2024-12-14T16:10:08.179094Z",
          "iopub.execute_input": "2024-12-14T16:10:08.179901Z",
          "iopub.status.idle": "2024-12-14T16:10:08.20659Z",
          "shell.execute_reply.started": "2024-12-14T16:10:08.179852Z",
          "shell.execute_reply": "2024-12-14T16:10:08.205399Z"
        },
        "id": "nXUGOvQ2Szc7"
      },
      "outputs": [],
      "execution_count": null
    },
    {
      "cell_type": "code",
      "source": [
        "def fill_with_mode(column):\n",
        "    if column.isna().all():\n",
        "        return column.fillna('Unknown')\n",
        "    else:\n",
        "        mode_value = column.mode()[0]\n",
        "        return column.fillna(mode_value)\n",
        "columns_to_clean = categorical_columns = ['manufacturer', 'model', 'condition', 'cylinders', 'fuel', 'title_status', 'transmission', 'VIN', 'drive', 'size', 'type', 'paint_color']\n",
        "for column in columns_to_clean:\n",
        "    if column in df.columns:\n",
        "        df[column].fillna(fill_with_mode(df[column]), inplace=True)"
      ],
      "metadata": {
        "trusted": true,
        "execution": {
          "iopub.status.busy": "2024-12-14T16:10:08.208036Z",
          "iopub.execute_input": "2024-12-14T16:10:08.208449Z",
          "iopub.status.idle": "2024-12-14T16:10:09.528121Z",
          "shell.execute_reply.started": "2024-12-14T16:10:08.208412Z",
          "shell.execute_reply": "2024-12-14T16:10:09.527107Z"
        },
        "id": "XTxn0rvjSzc7"
      },
      "outputs": [],
      "execution_count": null
    },
    {
      "cell_type": "code",
      "source": [
        "df.drop(['region_url','image_url','description','county'],inplace=True,axis=1)\n",
        "\n",
        "df['posting_date'] = df['posting_date'].fillna('Unknown')"
      ],
      "metadata": {
        "trusted": true,
        "execution": {
          "iopub.status.busy": "2024-12-14T16:10:09.529392Z",
          "iopub.execute_input": "2024-12-14T16:10:09.529733Z",
          "iopub.status.idle": "2024-12-14T16:10:09.647256Z",
          "shell.execute_reply.started": "2024-12-14T16:10:09.529702Z",
          "shell.execute_reply": "2024-12-14T16:10:09.64603Z"
        },
        "id": "5awo1mTJSzc7"
      },
      "outputs": [],
      "execution_count": null
    },
    {
      "cell_type": "code",
      "source": [
        "for col in df.columns:\n",
        "    print( col,':', df[col].nunique())\n",
        "    print(df[col].value_counts().nlargest(5))\n",
        "    print('\\n' + '-' * 20 + '\\n')"
      ],
      "metadata": {
        "trusted": true,
        "execution": {
          "iopub.status.busy": "2024-12-14T16:10:09.648819Z",
          "iopub.execute_input": "2024-12-14T16:10:09.649184Z",
          "iopub.status.idle": "2024-12-14T16:10:12.07771Z",
          "shell.execute_reply.started": "2024-12-14T16:10:09.64914Z",
          "shell.execute_reply": "2024-12-14T16:10:12.07648Z"
        },
        "id": "2HkbL-yRSzc7"
      },
      "outputs": [],
      "execution_count": null
    },
    {
      "cell_type": "code",
      "source": [
        "df.describe()"
      ],
      "metadata": {
        "trusted": true,
        "execution": {
          "iopub.status.busy": "2024-12-14T16:10:12.081284Z",
          "iopub.execute_input": "2024-12-14T16:10:12.081641Z",
          "iopub.status.idle": "2024-12-14T16:10:12.201592Z",
          "shell.execute_reply.started": "2024-12-14T16:10:12.081581Z",
          "shell.execute_reply": "2024-12-14T16:10:12.200468Z"
        },
        "id": "b-VK0sJWSzc7"
      },
      "outputs": [],
      "execution_count": null
    },
    {
      "cell_type": "code",
      "source": [
        "df.describe(include = 'all')"
      ],
      "metadata": {
        "trusted": true,
        "execution": {
          "iopub.status.busy": "2024-12-14T16:10:12.203194Z",
          "iopub.execute_input": "2024-12-14T16:10:12.203684Z",
          "iopub.status.idle": "2024-12-14T16:10:14.124881Z",
          "shell.execute_reply.started": "2024-12-14T16:10:12.203633Z",
          "shell.execute_reply": "2024-12-14T16:10:14.123507Z"
        },
        "id": "f5foEboUSzc7"
      },
      "outputs": [],
      "execution_count": null
    },
    {
      "cell_type": "code",
      "source": [
        "df.info()"
      ],
      "metadata": {
        "trusted": true,
        "execution": {
          "iopub.status.busy": "2024-12-14T16:10:14.126456Z",
          "iopub.execute_input": "2024-12-14T16:10:14.126869Z",
          "iopub.status.idle": "2024-12-14T16:10:14.467593Z",
          "shell.execute_reply.started": "2024-12-14T16:10:14.126836Z",
          "shell.execute_reply": "2024-12-14T16:10:14.466335Z"
        },
        "id": "7tlI0mLfSzc8"
      },
      "outputs": [],
      "execution_count": null
    },
    {
      "cell_type": "code",
      "source": [
        "df.columns"
      ],
      "metadata": {
        "trusted": true,
        "execution": {
          "iopub.status.busy": "2024-12-14T16:10:14.469589Z",
          "iopub.execute_input": "2024-12-14T16:10:14.470065Z",
          "iopub.status.idle": "2024-12-14T16:10:14.477691Z",
          "shell.execute_reply.started": "2024-12-14T16:10:14.470018Z",
          "shell.execute_reply": "2024-12-14T16:10:14.476499Z"
        },
        "id": "XGlUFmujSzc8"
      },
      "outputs": [],
      "execution_count": null
    },
    {
      "cell_type": "code",
      "source": [
        "df.duplicated().sum()"
      ],
      "metadata": {
        "trusted": true,
        "execution": {
          "iopub.status.busy": "2024-12-14T16:10:14.479237Z",
          "iopub.execute_input": "2024-12-14T16:10:14.4797Z",
          "iopub.status.idle": "2024-12-14T16:10:15.254176Z",
          "shell.execute_reply.started": "2024-12-14T16:10:14.479652Z",
          "shell.execute_reply": "2024-12-14T16:10:15.252994Z"
        },
        "id": "GMZWbiWQSzc8"
      },
      "outputs": [],
      "execution_count": null
    },
    {
      "cell_type": "code",
      "source": [
        "df.dtypes"
      ],
      "metadata": {
        "trusted": true,
        "execution": {
          "iopub.status.busy": "2024-12-14T16:10:15.255734Z",
          "iopub.execute_input": "2024-12-14T16:10:15.256189Z",
          "iopub.status.idle": "2024-12-14T16:10:15.265841Z",
          "shell.execute_reply.started": "2024-12-14T16:10:15.256139Z",
          "shell.execute_reply": "2024-12-14T16:10:15.264309Z"
        },
        "id": "KpkD__25Szc8"
      },
      "outputs": [],
      "execution_count": null
    },
    {
      "cell_type": "code",
      "source": [
        "df['posting_date'] = pd.to_datetime(df['posting_date'], errors='coerce')"
      ],
      "metadata": {
        "trusted": true,
        "execution": {
          "iopub.status.busy": "2024-12-14T16:10:15.267469Z",
          "iopub.execute_input": "2024-12-14T16:10:15.267837Z",
          "iopub.status.idle": "2024-12-14T16:10:21.995895Z",
          "shell.execute_reply.started": "2024-12-14T16:10:15.267802Z",
          "shell.execute_reply": "2024-12-14T16:10:21.994692Z"
        },
        "id": "Tr0wghHJSzc8"
      },
      "outputs": [],
      "execution_count": null
    },
    {
      "cell_type": "code",
      "source": [
        "df.head()"
      ],
      "metadata": {
        "trusted": true,
        "execution": {
          "iopub.status.busy": "2024-12-14T16:10:21.997275Z",
          "iopub.execute_input": "2024-12-14T16:10:21.997643Z",
          "iopub.status.idle": "2024-12-14T16:10:22.023358Z",
          "shell.execute_reply.started": "2024-12-14T16:10:21.997582Z",
          "shell.execute_reply": "2024-12-14T16:10:22.022156Z"
        },
        "id": "3B12UIETSzc8"
      },
      "outputs": [],
      "execution_count": null
    },
    {
      "cell_type": "code",
      "source": [
        "df['cylinders'].replace(to_replace=['3 cylinders','4 cylinders','5 cylinders','6 cylinders','8 cylinders','10 cylinders','12 cylinders'\n",
        ",'other'],value=[3,4,5,6,8,10,12,np.nan],inplace=True)"
      ],
      "metadata": {
        "execution": {
          "iopub.status.busy": "2024-12-14T16:10:22.024962Z",
          "iopub.execute_input": "2024-12-14T16:10:22.02532Z",
          "iopub.status.idle": "2024-12-14T16:10:22.263186Z",
          "shell.execute_reply.started": "2024-12-14T16:10:22.025286Z",
          "shell.execute_reply": "2024-12-14T16:10:22.261737Z"
        },
        "trusted": true,
        "id": "StzeUlPbSzc8"
      },
      "outputs": [],
      "execution_count": null
    },
    {
      "cell_type": "markdown",
      "source": [
        "# EDA"
      ],
      "metadata": {
        "id": "hN82LSZWSzc8"
      }
    },
    {
      "cell_type": "markdown",
      "source": [
        "## What is the most popular car type?"
      ],
      "metadata": {
        "execution": {
          "iopub.status.busy": "2024-12-14T15:49:26.913125Z",
          "iopub.execute_input": "2024-12-14T15:49:26.913715Z",
          "iopub.status.idle": "2024-12-14T15:49:26.920031Z",
          "shell.execute_reply.started": "2024-12-14T15:49:26.913663Z",
          "shell.execute_reply": "2024-12-14T15:49:26.918512Z"
        },
        "id": "8YCYVyQJSzc8"
      }
    },
    {
      "cell_type": "code",
      "source": [
        "df['type'].value_counts()"
      ],
      "metadata": {
        "trusted": true,
        "execution": {
          "iopub.status.busy": "2024-12-14T16:10:22.264923Z",
          "iopub.execute_input": "2024-12-14T16:10:22.265384Z",
          "iopub.status.idle": "2024-12-14T16:10:22.307444Z",
          "shell.execute_reply.started": "2024-12-14T16:10:22.265335Z",
          "shell.execute_reply": "2024-12-14T16:10:22.306085Z"
        },
        "id": "x_8YTD1ySzc8"
      },
      "outputs": [],
      "execution_count": null
    },
    {
      "cell_type": "markdown",
      "source": [
        "**We found sedan is the highest one.**"
      ],
      "metadata": {
        "id": "3ZSPKTI7Szc8"
      }
    },
    {
      "cell_type": "code",
      "source": [
        "car_type_counts = df['type'].value_counts().head(10)\n",
        "plt.figure(figsize=(10, 6))\n",
        "sns.barplot(x=car_type_counts.values, y=car_type_counts.index, palette='viridis')\n",
        "plt.title('Top 10 Most Popular Car Types')\n",
        "plt.xlabel('Number of Listings')\n",
        "plt.ylabel('Car Type')\n",
        "plt.show()"
      ],
      "metadata": {
        "trusted": true,
        "execution": {
          "iopub.status.busy": "2024-12-14T16:10:22.309015Z",
          "iopub.execute_input": "2024-12-14T16:10:22.309477Z",
          "iopub.status.idle": "2024-12-14T16:10:22.584964Z",
          "shell.execute_reply.started": "2024-12-14T16:10:22.309441Z",
          "shell.execute_reply": "2024-12-14T16:10:22.583687Z"
        },
        "id": "0Jjy3__RSzc8"
      },
      "outputs": [],
      "execution_count": null
    },
    {
      "cell_type": "code",
      "source": [
        "df['type'].value_counts().head(5).plot(\n",
        "    kind='pie',\n",
        "    autopct='%1.1f%%',\n",
        "    figsize=(8, 8),\n",
        "    startangle=140,\n",
        "    shadow=True,\n",
        "    labels=df['type'].value_counts().head(5).index,  # Use specific labels\n",
        "    colors=['#ff9999', '#66b3ff', '#99ff99', '#ffcc99', '#c2c2f0']  # Optional custom colors\n",
        ")\n",
        "plt.title('Top 5 Types')\n",
        "plt.ylabel('')\n",
        "plt.show()"
      ],
      "metadata": {
        "trusted": true,
        "execution": {
          "iopub.status.busy": "2024-12-14T16:10:22.586848Z",
          "iopub.execute_input": "2024-12-14T16:10:22.587973Z",
          "iopub.status.idle": "2024-12-14T16:10:22.887127Z",
          "shell.execute_reply.started": "2024-12-14T16:10:22.587919Z",
          "shell.execute_reply": "2024-12-14T16:10:22.885701Z"
        },
        "id": "0Viej8gNSzc8"
      },
      "outputs": [],
      "execution_count": null
    },
    {
      "cell_type": "markdown",
      "source": [
        "## What is the distribution of cars according to title status?"
      ],
      "metadata": {
        "execution": {
          "iopub.status.busy": "2024-12-14T15:40:29.775645Z",
          "iopub.execute_input": "2024-12-14T15:40:29.776022Z",
          "iopub.status.idle": "2024-12-14T15:40:29.783318Z",
          "shell.execute_reply.started": "2024-12-14T15:40:29.775991Z",
          "shell.execute_reply": "2024-12-14T15:40:29.782163Z"
        },
        "id": "CyD8deylSzc8"
      }
    },
    {
      "cell_type": "code",
      "source": [
        "title_counts = df['title_status'].value_counts()\n",
        "plt.figure(figsize=(8, 5))\n",
        "sns.barplot(x=title_counts.index, y=title_counts.values, palette='magma')\n",
        "plt.title('Distribution of Cars by Title Status')\n",
        "plt.xlabel('Title Status')\n",
        "plt.ylabel('Number of Listings')\n",
        "plt.show()\n"
      ],
      "metadata": {
        "trusted": true,
        "execution": {
          "iopub.status.busy": "2024-12-14T16:10:22.888929Z",
          "iopub.execute_input": "2024-12-14T16:10:22.889519Z",
          "iopub.status.idle": "2024-12-14T16:10:23.209915Z",
          "shell.execute_reply.started": "2024-12-14T16:10:22.889456Z",
          "shell.execute_reply": "2024-12-14T16:10:23.208717Z"
        },
        "id": "UC9xjsDLSzc8"
      },
      "outputs": [],
      "execution_count": null
    },
    {
      "cell_type": "markdown",
      "source": [
        "## What is the trend of data over time?"
      ],
      "metadata": {
        "id": "zhZAd7SDSzc8"
      }
    },
    {
      "cell_type": "code",
      "source": [
        "df['posting_date'] = pd.to_datetime(df['posting_date'], utc=True)\n",
        "df['year_month'] = df['posting_date'].dt.to_period('M')\n",
        "trend = df['year_month'].value_counts().sort_index()\n",
        "plt.figure(figsize=(12, 6))\n",
        "trend.plot()\n",
        "plt.title('Trend of Car Listings Over Time')\n",
        "plt.xlabel('Year-Month')\n",
        "plt.ylabel('Number of Listings')\n",
        "plt.xticks(rotation=45)\n",
        "plt.show()\n"
      ],
      "metadata": {
        "trusted": true,
        "execution": {
          "iopub.status.busy": "2024-12-14T16:10:23.211583Z",
          "iopub.execute_input": "2024-12-14T16:10:23.212086Z",
          "iopub.status.idle": "2024-12-14T16:10:24.191233Z",
          "shell.execute_reply.started": "2024-12-14T16:10:23.212037Z",
          "shell.execute_reply": "2024-12-14T16:10:24.189796Z"
        },
        "id": "r6fSRDnmSzc9"
      },
      "outputs": [],
      "execution_count": null
    },
    {
      "cell_type": "code",
      "source": [
        "df['year'] = df['year'].astype(int)\n",
        "yearly_distribution = df.groupby('year')['id'].count()\n",
        "plt.figure(figsize=(14, 8))\n",
        "yearly_distribution.plot(kind='area', color='green', alpha=0.4)\n",
        "plt.title('Car Listings Over the Years')\n",
        "plt.xlabel('Year')\n",
        "plt.ylabel('Number of Cars')\n",
        "plt.show()"
      ],
      "metadata": {
        "trusted": true,
        "execution": {
          "iopub.status.busy": "2024-12-14T16:10:24.192952Z",
          "iopub.execute_input": "2024-12-14T16:10:24.193445Z",
          "iopub.status.idle": "2024-12-14T16:10:24.515574Z",
          "shell.execute_reply.started": "2024-12-14T16:10:24.193392Z",
          "shell.execute_reply": "2024-12-14T16:10:24.514341Z"
        },
        "id": "vbn-eRIySzc9"
      },
      "outputs": [],
      "execution_count": null
    },
    {
      "cell_type": "markdown",
      "source": [
        "## How does the price change over the years?"
      ],
      "metadata": {
        "id": "lb_4A9bhSzc9"
      }
    },
    {
      "cell_type": "code",
      "source": [
        "price_by_year = df.groupby('year')['price'].mean().dropna()\n",
        "plt.figure(figsize=(10, 6))\n",
        "sns.lineplot(x=price_by_year.index, y=price_by_year.values, marker='o', color='b')\n",
        "plt.title('Average Price of Cars Over Manufacturing Years')\n",
        "plt.xlabel('Year')\n",
        "plt.ylabel('Average Price')\n",
        "plt.show()\n"
      ],
      "metadata": {
        "trusted": true,
        "execution": {
          "iopub.status.busy": "2024-12-14T16:10:24.51719Z",
          "iopub.execute_input": "2024-12-14T16:10:24.517533Z",
          "iopub.status.idle": "2024-12-14T16:10:24.827153Z",
          "shell.execute_reply.started": "2024-12-14T16:10:24.5175Z",
          "shell.execute_reply": "2024-12-14T16:10:24.825947Z"
        },
        "id": "l0otHn9ASzc9"
      },
      "outputs": [],
      "execution_count": null
    },
    {
      "cell_type": "markdown",
      "source": [
        "## What is the most popular condition?"
      ],
      "metadata": {
        "id": "r0KSbqztSzc9"
      }
    },
    {
      "cell_type": "code",
      "source": [
        "df['condition'].value_counts()"
      ],
      "metadata": {
        "trusted": true,
        "execution": {
          "iopub.status.busy": "2024-12-14T16:10:24.82928Z",
          "iopub.execute_input": "2024-12-14T16:10:24.829784Z",
          "iopub.status.idle": "2024-12-14T16:10:24.870089Z",
          "shell.execute_reply.started": "2024-12-14T16:10:24.829734Z",
          "shell.execute_reply": "2024-12-14T16:10:24.868865Z"
        },
        "id": "0K2tKUgASzc9"
      },
      "outputs": [],
      "execution_count": null
    },
    {
      "cell_type": "markdown",
      "source": [
        "**we can see that the highest is good.**"
      ],
      "metadata": {
        "id": "9Urc7YFoSzc9"
      }
    },
    {
      "cell_type": "code",
      "source": [
        "condition_counts = df['condition'].value_counts()\n",
        "plt.figure(figsize=(8, 5))\n",
        "sns.barplot(x=condition_counts.index, y=condition_counts.values, palette='coolwarm')\n",
        "plt.title('Distribution of Car Conditions')\n",
        "plt.xlabel('Condition')\n",
        "plt.ylabel('Number of Listings')\n",
        "plt.show()\n"
      ],
      "metadata": {
        "trusted": true,
        "execution": {
          "iopub.status.busy": "2024-12-14T16:10:24.872001Z",
          "iopub.execute_input": "2024-12-14T16:10:24.872396Z",
          "iopub.status.idle": "2024-12-14T16:10:25.173033Z",
          "shell.execute_reply.started": "2024-12-14T16:10:24.872363Z",
          "shell.execute_reply": "2024-12-14T16:10:25.171891Z"
        },
        "id": "Q0BW0czMSzdA"
      },
      "outputs": [],
      "execution_count": null
    },
    {
      "cell_type": "markdown",
      "source": [
        "## What is the relation between price and mileage?"
      ],
      "metadata": {
        "id": "jicQYJ-9SzdB"
      }
    },
    {
      "cell_type": "code",
      "source": [
        "plt.figure(figsize=(10, 6))\n",
        "sns.scatterplot(x='odometer', y='price', data=df, alpha=0.5)\n",
        "plt.title('Price vs Odometer')\n",
        "plt.xlabel('Odometer (Miles)')\n",
        "plt.ylabel('Price')\n",
        "plt.show()\n"
      ],
      "metadata": {
        "trusted": true,
        "execution": {
          "iopub.status.busy": "2024-12-14T16:10:25.179252Z",
          "iopub.execute_input": "2024-12-14T16:10:25.179622Z",
          "iopub.status.idle": "2024-12-14T16:10:26.454869Z",
          "shell.execute_reply.started": "2024-12-14T16:10:25.179573Z",
          "shell.execute_reply": "2024-12-14T16:10:26.453809Z"
        },
        "id": "pExrFX1USzdB"
      },
      "outputs": [],
      "execution_count": null
    },
    {
      "cell_type": "markdown",
      "source": [
        "## What is the correlation between price, distance, and cylinders?"
      ],
      "metadata": {
        "id": "2-wsNf_9SzdB"
      }
    },
    {
      "cell_type": "code",
      "source": [
        "corr = df[['price', 'odometer', 'cylinders']].corr()\n",
        "plt.figure(figsize=(8, 6))\n",
        "sns.heatmap(corr, annot=True, cmap='coolwarm', linewidths=0.5)\n",
        "plt.title('Correlation Heatmap: Price, Odometer, Cylinders')\n",
        "plt.show()\n"
      ],
      "metadata": {
        "trusted": true,
        "execution": {
          "iopub.status.busy": "2024-12-14T16:10:26.45654Z",
          "iopub.execute_input": "2024-12-14T16:10:26.45703Z",
          "iopub.status.idle": "2024-12-14T16:10:26.765624Z",
          "shell.execute_reply.started": "2024-12-14T16:10:26.45698Z",
          "shell.execute_reply": "2024-12-14T16:10:26.764312Z"
        },
        "id": "SJ5vVBbdSzdB"
      },
      "outputs": [],
      "execution_count": null
    },
    {
      "cell_type": "markdown",
      "source": [
        "## How is price affected by fuel type?"
      ],
      "metadata": {
        "id": "aBCgDuBVSzdB"
      }
    },
    {
      "cell_type": "code",
      "source": [
        "fuel_price = df.groupby('fuel')['price'].mean().sort_values()\n",
        "plt.figure(figsize=(8, 5))\n",
        "sns.barplot(x=fuel_price.index, y=fuel_price.values, palette='pastel')\n",
        "plt.title('Average Price by Fuel Type')\n",
        "plt.xlabel('Fuel Type')\n",
        "plt.ylabel('Average Price')\n",
        "plt.show()\n"
      ],
      "metadata": {
        "trusted": true,
        "execution": {
          "iopub.status.busy": "2024-12-14T16:10:26.767539Z",
          "iopub.execute_input": "2024-12-14T16:10:26.767891Z",
          "iopub.status.idle": "2024-12-14T16:10:27.047428Z",
          "shell.execute_reply.started": "2024-12-14T16:10:26.767858Z",
          "shell.execute_reply": "2024-12-14T16:10:27.046162Z"
        },
        "id": "Jj02E69SSzdB"
      },
      "outputs": [],
      "execution_count": null
    },
    {
      "cell_type": "markdown",
      "source": [
        "## What is the average price based on manufacturer?"
      ],
      "metadata": {
        "id": "2BaUcfDcSzdB"
      }
    },
    {
      "cell_type": "code",
      "source": [
        "manufacturer_price = df.groupby('manufacturer')['price'].mean().sort_values(ascending=False).head(10)\n",
        "plt.figure(figsize=(10, 6))\n",
        "sns.barplot(x=manufacturer_price.values, y=manufacturer_price.index, palette='cubehelix')\n",
        "plt.title('Top 10 Manufacturers with Highest Average Price')\n",
        "plt.xlabel('Average Price')\n",
        "plt.ylabel('Manufacturer')\n",
        "plt.show()\n"
      ],
      "metadata": {
        "trusted": true,
        "execution": {
          "iopub.status.busy": "2024-12-14T16:10:27.048853Z",
          "iopub.execute_input": "2024-12-14T16:10:27.049208Z",
          "iopub.status.idle": "2024-12-14T16:10:27.383212Z",
          "shell.execute_reply.started": "2024-12-14T16:10:27.049176Z",
          "shell.execute_reply": "2024-12-14T16:10:27.382198Z"
        },
        "id": "8qjRo7LHSzdB"
      },
      "outputs": [],
      "execution_count": null
    },
    {
      "cell_type": "markdown",
      "source": [
        "## What is the distribution of cars based on cylinders?"
      ],
      "metadata": {
        "id": "F11nVVr0SzdB"
      }
    },
    {
      "cell_type": "code",
      "source": [
        "df['cylinders'].value_counts().sort_values()\n"
      ],
      "metadata": {
        "trusted": true,
        "execution": {
          "iopub.status.busy": "2024-12-14T16:10:27.384867Z",
          "iopub.execute_input": "2024-12-14T16:10:27.385235Z",
          "iopub.status.idle": "2024-12-14T16:10:27.400154Z",
          "shell.execute_reply.started": "2024-12-14T16:10:27.385201Z",
          "shell.execute_reply": "2024-12-14T16:10:27.399028Z"
        },
        "id": "-ZXjgNKaSzdB"
      },
      "outputs": [],
      "execution_count": null
    },
    {
      "cell_type": "code",
      "source": [
        "cylinder_types = df['cylinders'].dropna().unique()\n",
        "cylinder_types"
      ],
      "metadata": {
        "trusted": true,
        "execution": {
          "iopub.status.busy": "2024-12-14T16:10:27.401387Z",
          "iopub.execute_input": "2024-12-14T16:10:27.40175Z",
          "iopub.status.idle": "2024-12-14T16:10:27.424882Z",
          "shell.execute_reply.started": "2024-12-14T16:10:27.401707Z",
          "shell.execute_reply": "2024-12-14T16:10:27.423578Z"
        },
        "id": "tVMjrO5VSzdB"
      },
      "outputs": [],
      "execution_count": null
    },
    {
      "cell_type": "code",
      "source": [
        "plt.figure(figsize=(20, 20))\n",
        "for i, cyl in enumerate(cylinder_types, 1):\n",
        "    plt.subplot(len(cylinder_types), 1, i)\n",
        "    sns.distplot(\n",
        "        df[df['cylinders'] == cyl]['price'],\n",
        "        color='maroon',\n",
        "        hist_kws={'alpha': 0.7},\n",
        "        kde_kws={'lw': 5}\n",
        "    )\n",
        "    plt.title(f'Price distribution of {cyl}-cylinder cars', y=-0.5)\n",
        "    plt.xlabel('Price')\n",
        "    plt.ylabel('Density')\n",
        "plt.tight_layout()\n",
        "plt.show()\n"
      ],
      "metadata": {
        "trusted": true,
        "execution": {
          "iopub.status.busy": "2024-12-14T16:10:27.426828Z",
          "iopub.execute_input": "2024-12-14T16:10:27.427164Z",
          "iopub.status.idle": "2024-12-14T16:10:31.481983Z",
          "shell.execute_reply.started": "2024-12-14T16:10:27.427133Z",
          "shell.execute_reply": "2024-12-14T16:10:31.480855Z"
        },
        "id": "euX0HbSqSzdB"
      },
      "outputs": [],
      "execution_count": null
    },
    {
      "cell_type": "code",
      "source": [
        "cylinder_counts = df['cylinders'].value_counts().dropna()\n",
        "plt.figure(figsize=(8, 5))\n",
        "sns.barplot(x=cylinder_counts.index, y=cylinder_counts.values, palette='viridis')\n",
        "plt.title('Distribution of Cars by Cylinders')\n",
        "plt.xlabel('Cylinders')\n",
        "plt.ylabel('Number of Listings')\n",
        "plt.show()\n"
      ],
      "metadata": {
        "trusted": true,
        "execution": {
          "iopub.status.busy": "2024-12-14T16:10:31.483754Z",
          "iopub.execute_input": "2024-12-14T16:10:31.484257Z",
          "iopub.status.idle": "2024-12-14T16:10:31.766397Z",
          "shell.execute_reply.started": "2024-12-14T16:10:31.484192Z",
          "shell.execute_reply": "2024-12-14T16:10:31.765055Z"
        },
        "id": "kuSOH3ndSzdB"
      },
      "outputs": [],
      "execution_count": null
    },
    {
      "cell_type": "markdown",
      "source": [
        "## Which state has the most car models in the USA?"
      ],
      "metadata": {
        "id": "dfTsum2HSzdB"
      }
    },
    {
      "cell_type": "code",
      "source": [
        "stat=df.groupby('state').count()['model'].sort_values(ascending=False).head()\n",
        "stat"
      ],
      "metadata": {
        "trusted": true,
        "execution": {
          "iopub.status.busy": "2024-12-14T16:10:31.768095Z",
          "iopub.execute_input": "2024-12-14T16:10:31.76855Z",
          "iopub.status.idle": "2024-12-14T16:10:32.087299Z",
          "shell.execute_reply.started": "2024-12-14T16:10:31.7685Z",
          "shell.execute_reply": "2024-12-14T16:10:32.086054Z"
        },
        "id": "sIkD4_kmSzdB"
      },
      "outputs": [],
      "execution_count": null
    },
    {
      "cell_type": "code",
      "source": [
        "state_counts = df['state'].value_counts().head(10)\n",
        "plt.figure(figsize=(10, 6))\n",
        "sns.barplot(x=state_counts.values, y=state_counts.index, palette='deep')\n",
        "plt.title('Top 10 States with Most Car Listings')\n",
        "plt.xlabel('Number of Listings')\n",
        "plt.ylabel('State')\n",
        "plt.show()\n"
      ],
      "metadata": {
        "trusted": true,
        "execution": {
          "iopub.status.busy": "2024-12-14T16:10:32.088515Z",
          "iopub.execute_input": "2024-12-14T16:10:32.088827Z",
          "iopub.status.idle": "2024-12-14T16:10:32.41032Z",
          "shell.execute_reply.started": "2024-12-14T16:10:32.088797Z",
          "shell.execute_reply": "2024-12-14T16:10:32.409209Z"
        },
        "id": "zbcc2wDiSzdC"
      },
      "outputs": [],
      "execution_count": null
    },
    {
      "cell_type": "markdown",
      "source": [
        "## Distribution on the map"
      ],
      "metadata": {
        "id": "Vg0nQGlvSzdC"
      }
    },
    {
      "cell_type": "code",
      "source": [
        "plt.figure(figsize = (20, 5))\n",
        "sns.scatterplot(x=df['long'],y=df['lat'])\n",
        "plt.title('Fig: Latitude and Longitude of each state', y=-0.23)"
      ],
      "metadata": {
        "trusted": true,
        "execution": {
          "iopub.status.busy": "2024-12-14T16:10:32.411693Z",
          "iopub.execute_input": "2024-12-14T16:10:32.412021Z",
          "iopub.status.idle": "2024-12-14T16:10:34.272599Z",
          "shell.execute_reply.started": "2024-12-14T16:10:32.41199Z",
          "shell.execute_reply": "2024-12-14T16:10:34.271439Z"
        },
        "id": "kl4Dl4tzSzdC"
      },
      "outputs": [],
      "execution_count": null
    },
    {
      "cell_type": "code",
      "source": [
        "sample_df = df.sample(int(0.01*len(df)))\n",
        "lat_long_pairs = list(zip(list(df['lat']),list(df['long'])))"
      ],
      "metadata": {
        "trusted": true,
        "execution": {
          "iopub.status.busy": "2024-12-14T16:10:34.274058Z",
          "iopub.execute_input": "2024-12-14T16:10:34.27439Z",
          "iopub.status.idle": "2024-12-14T16:10:34.534952Z",
          "shell.execute_reply.started": "2024-12-14T16:10:34.274358Z",
          "shell.execute_reply": "2024-12-14T16:10:34.533686Z"
        },
        "id": "g52M-AufSzdC"
      },
      "outputs": [],
      "execution_count": null
    },
    {
      "cell_type": "code",
      "source": [
        "map=folium.Map()\n",
        "HeatMap(lat_long_pairs[50:150]).add_to(map)\n",
        "map"
      ],
      "metadata": {
        "trusted": true,
        "execution": {
          "iopub.status.busy": "2024-12-14T16:10:34.536454Z",
          "iopub.execute_input": "2024-12-14T16:10:34.53685Z",
          "iopub.status.idle": "2024-12-14T16:10:34.557439Z",
          "shell.execute_reply.started": "2024-12-14T16:10:34.536807Z",
          "shell.execute_reply": "2024-12-14T16:10:34.556399Z"
        },
        "id": "qw6kDb2HSzdC"
      },
      "outputs": [],
      "execution_count": null
    }
  ]
}